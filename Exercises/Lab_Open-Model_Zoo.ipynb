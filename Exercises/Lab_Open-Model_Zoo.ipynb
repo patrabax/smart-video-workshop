{
 "cells": [
  {
   "cell_type": "markdown",
   "id": "fcb4fb9e",
   "metadata": {},
   "source": [
    "### Introduction\n",
    "This sample application demonstrates how to download models from Open Model Zoo which are validated with the OpenVINO toolkit\n",
    "\n",
    "<br><div class=note><i><b>Note: </b>It is assumed that the server this sample is being run on is on the Intel DevCloud for Edge Workloads which has Jupyter* Notebook customizations and all the required libraries already installed.</i></div>"
   ]
  },
  {
   "cell_type": "markdown",
   "id": "b23bc726",
   "metadata": {},
   "source": [
    "### Print a list of all available models on Open Model Zoo\n",
    "The OpenVINO toolkit includes the Model Downloader utility to download some common inference models from the Open Model Zoo.\n",
    "\n",
    "Run the following cell to run the Model Downloader utility with the --print_all argument to see all the available inference models."
   ]
  },
  {
   "cell_type": "code",
   "execution_count": null,
   "id": "19c97d55",
   "metadata": {},
   "outputs": [],
   "source": [
    "!omz_downloader --print_all"
   ]
  },
  {
   "cell_type": "markdown",
   "id": "ccb6d3db",
   "metadata": {},
   "source": [
    "### Download Intel Pre-trained Model\n",
    "\n",
    "Run the following cell to run the Model Downloader utility with the --name argument to download Intel pre-trained Model person-vehicle-bike-detection-crossroad-0078"
   ]
  },
  {
   "cell_type": "code",
   "execution_count": null,
   "id": "ac7f9c6e",
   "metadata": {},
   "outputs": [],
   "source": [
    "!omz_downloader --name person-vehicle-bike-detection-crossroad-0078 -o models"
   ]
  },
  {
   "cell_type": "markdown",
   "id": "d6bf0558",
   "metadata": {},
   "source": [
    "### Get Model Information\n",
    "Run the following cell to get the information of the model person-vehicle-bike-detection-crossroad-0078 which was downloaded in the previous cell"
   ]
  },
  {
   "cell_type": "code",
   "execution_count": null,
   "id": "683f598c",
   "metadata": {},
   "outputs": [],
   "source": [
    "!omz_info_dumper --name person-vehicle-bike-detection-crossroad-0078"
   ]
  },
  {
   "cell_type": "markdown",
   "id": "a876cf54",
   "metadata": {},
   "source": [
    "### Download Public Pre-trained Model\n",
    "Run the following cell to run the Model Downloader utility with the --name argument to download Public pre-trained Model mobilenet-ssd"
   ]
  },
  {
   "cell_type": "code",
   "execution_count": null,
   "id": "7cf4ea93",
   "metadata": {},
   "outputs": [],
   "source": [
    "!omz_downloader --name mobilenet-ssd -o models"
   ]
  },
  {
   "cell_type": "markdown",
   "id": "a44afb17",
   "metadata": {},
   "source": [
    "### Get Model Information\n",
    "Run the following cell to get the information of the Intel Public model mobilenet-ssd which was downloaded in the previous cell"
   ]
  },
  {
   "cell_type": "code",
   "execution_count": null,
   "id": "a257dd08",
   "metadata": {},
   "outputs": [],
   "source": [
    "!omz_info_dumper --name mobilenet-ssd"
   ]
  },
  {
   "cell_type": "markdown",
   "id": "46218750",
   "metadata": {},
   "source": [
    "Congratulations! You have completed this lab excercise by downloading a model from Open Model Zoo. Now the next step is to optimize this model. If you download a pre-trained model by Intel, it will be already optimized and converted to IR format and hence ready to use for inferencing using the OpenVINO Runtime in your AI application. If you download a public model from Open Model Zoo or use your own model, you will need to convert it to IR format using the Model Optimizer."
   ]
  }
 ],
 "metadata": {
  "kernelspec": {
   "display_name": "Python3 (OpenVINO 2022.1)",
   "language": "python",
   "name": "openvino_2022.1.0"
  },
  "language_info": {
   "codemirror_mode": {
    "name": "ipython",
    "version": 3
   },
   "file_extension": ".py",
   "mimetype": "text/x-python",
   "name": "python",
   "nbconvert_exporter": "python",
   "pygments_lexer": "ipython3",
   "version": "3.6.9"
  },
  "nbTranslate": {
   "displayLangs": [
    "*"
   ],
   "hotkey": "alt-t",
   "langInMainMenu": true,
   "sourceLang": "en",
   "targetLang": "fr",
   "useGoogleTranslate": true
  },
  "toc": {
   "base_numbering": 1,
   "nav_menu": {},
   "number_sections": true,
   "sideBar": true,
   "skip_h1_title": false,
   "title_cell": "Table of Contents",
   "title_sidebar": "Contents",
   "toc_cell": false,
   "toc_position": {},
   "toc_section_display": true,
   "toc_window_display": false
  }
 },
 "nbformat": 4,
 "nbformat_minor": 5
}
