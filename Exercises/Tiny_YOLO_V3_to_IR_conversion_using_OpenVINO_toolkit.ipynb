{
 "cells": [
  {
   "cell_type": "markdown",
   "metadata": {
    "id": "JfJL4xv7Tjsj"
   },
   "source": [
    "Tiny YOLO* V3 to IR conversion using OpenVINO toolkit \n",
    "\n",
    "---\n",
    "\n"
   ]
  },
  {
   "cell_type": "markdown",
   "metadata": {
    "id": "MIo445Ka0JNT"
   },
   "source": [
    "This sample application demonstrates how to convert Tiny YOLO* V3 model to IR using the Model Optimizer.\n",
    "\n",
    "\n"
   ]
  },
  {
   "cell_type": "markdown",
   "metadata": {
    "id": "bjzOVqRkXxYb"
   },
   "source": [
    "### Imports\n",
    "We begin by importing all the Python* modules that will be used within this Jupyter* Notebook :\n",
    "- [os](https://docs.python.org/3/library/os.html#module-os) - Operating system specific module (used for file name parsing)\n",
    "- [time](https://docs.python.org/3/library/time.html#module-time) - Time tracking module (used for measuring execution time)\n",
    "- [matplotlib.pyplot](https://matplotlib.org/) - pyplot is used for displaying output images\n",
    "- [sys](https://docs.python.org/3/library/sys.html#module-sys) - System specific parameters and functions\n",
    "- [qarpo.demoutils](https://github.com/ColfaxResearch/qarpo) - Provides utilities for displaying results and managing jobs from within this Jupyter* Notebook\n",
    "\n",
    "Run the following cell to import the Python dependencies needed.\n",
    "\n",
    "<br><div class=tip><b>Tip: </b>Select a cell and then use **Ctrl+Enter** to run that cell.</div>"
   ]
  },
  {
   "cell_type": "code",
   "execution_count": null,
   "metadata": {
    "id": "eM_pJQ2rTq3F"
   },
   "outputs": [],
   "source": [
    "import matplotlib.pyplot as plt\n",
    "import os\n",
    "import time\n",
    "import sys\n",
    "print('Imported Python modules successfully.')"
   ]
  },
  {
   "cell_type": "markdown",
   "metadata": {
    "id": "9RBdyzCZVdYF"
   },
   "source": [
    "## Convert Tiny YOLO V3 Darknet Model to TensorFlow Format\n"
   ]
  },
  {
   "cell_type": "markdown",
   "metadata": {
    "id": "oIB08B9SVi9_"
   },
   "source": [
    "The purpose of this section is to convert the [DarkNet Pre-Trained Tiny YOLO V3 model(.weights)](https://pjreddie.com/darknet/yolo/) to frozen TensorFlow format (.pb) which Model Optimizer supports. We will be referencing the [instructions](https://docs.openvinotoolkit.org/latest/openvino_docs_MO_DG_prepare_model_convert_model_tf_specific_Convert_YOLO_From_Tensorflow.html) to convert the Darknet model to TensorFlow format(.pb) in the cells below. "
   ]
  },
  {
   "cell_type": "markdown",
   "metadata": {
    "id": "fv0KWBkrVpyV"
   },
   "source": [
    "### Download Tiny YOLO V3 Darknet Model Weights and COCO labels file\n",
    "<br><div class=note><i><b>Note: </b>This step takes ~1-3 minutes</i></div>"
   ]
  },
  {
   "cell_type": "code",
   "execution_count": null,
   "metadata": {
    "id": "JfUTHOTcVSZV"
   },
   "outputs": [],
   "source": [
    "!curl https://pjreddie.com/media/files/yolov3-tiny.weights > yolov3-tiny.weights"
   ]
  },
  {
   "cell_type": "code",
   "execution_count": null,
   "metadata": {
    "id": "B7pCEGufVvW3"
   },
   "outputs": [],
   "source": [
    "!curl https://raw.githubusercontent.com/pjreddie/darknet/master/data/coco.names> coco.names"
   ]
  },
  {
   "cell_type": "markdown",
   "metadata": {
    "id": "yQFWoNOjV31I"
   },
   "source": [
    "### Convert weights to frozen Tensorflow Format \n"
   ]
  },
  {
   "cell_type": "markdown",
   "metadata": {
    "id": "hcC5hJt6V9or"
   },
   "source": [
    "We will clone the tensorflow-yolo-v3 repository to access the convert_weights_pb.py python script that can convert all different types of YOLO and Tiny YOLO models to frozen Tensorflow Protobuf files (.pb)"
   ]
  },
  {
   "cell_type": "code",
   "execution_count": null,
   "metadata": {
    "id": "6ifa1VG2Vy7j"
   },
   "outputs": [],
   "source": [
    "!rm -rf tensorflow-yolo-v3\n",
    "!git clone https://github.com/mystic123/tensorflow-yolo-v3.git"
   ]
  },
  {
   "cell_type": "code",
   "execution_count": null,
   "metadata": {
    "id": "0Dplmj0XWIDm"
   },
   "outputs": [],
   "source": [
    "!python3 -c 'import tensorflow as tf; print(tf.__version__)'\n",
    "!python3 tensorflow-yolo-v3/convert_weights_pb.py --class_names coco.names --data_format NHWC --weights_file yolov3-tiny.weights --tiny "
   ]
  },
  {
   "cell_type": "markdown",
   "metadata": {
    "id": "QanaGYFIWeP4"
   },
   "source": [
    "### Create the IR files for the inference model\n",
    "\n",
    "The OpenVINO toolkit includes the [Model Optimizer](http://docs.openvinotoolkit.org/latest/_docs_MO_DG_Deep_Learning_Model_Optimizer_DevGuide.html) used to convert and optimize trained models into the Intermediate Representation (IR) model files, and the [Inference Engine](http://docs.openvinotoolkit.org/latest/_docs_IE_DG_Deep_Learning_Inference_Engine_DevGuide.html) that uses the IR model files to run inference on hardware devices.  The IR model files can be created from trained models from popular frameworks (e.g. Caffe\\*, Tensorflow*, etc.). \n",
    "\n"
   ]
  },
  {
   "cell_type": "markdown",
   "metadata": {
    "id": "iFrMbs1CWjuP"
   },
   "source": [
    "The model must be converted from Tensorflow format to OpenVINO's Intermediate Reperesentation format (pb -> .xml + .bin). Run the following cells to convert`Tiny YOLO V3` model to IR using Model Optimizer. The IR will be stored in the `./models` directory relative to the location of this Jupyter* Notebook. \n"
   ]
  },
  {
   "cell_type": "markdown",
   "metadata": {
    "id": "KpZ-igRfWn57"
   },
   "source": [
    "Run the following cell to use Model Optimizer to create the `FP16` model IR files:"
   ]
  },
  {
   "cell_type": "code",
   "execution_count": null,
   "metadata": {
    "id": "1Jk_HLx3WSH-"
   },
   "outputs": [],
   "source": [
    "!mo \\\n",
    "--input_model frozen_darknet_yolov3_model.pb \\\n",
    "--transformations_config /opt/intel/openvino-lts/deployment_tools/model_optimizer/extensions/front/tf/yolo_v3_tiny.json \\\n",
    "--data_type FP16 \\\n",
    "--batch 1 \\\n",
    "--output_dir models/tinyyolov3/FP16"
   ]
  },
  {
   "cell_type": "markdown",
   "metadata": {
    "id": "OPCDr8puW4C8"
   },
   "source": [
    "Run the following cell to use Model Optimizer to create the `FP32` model IR files:\n"
   ]
  },
  {
   "cell_type": "code",
   "execution_count": null,
   "metadata": {
    "id": "_W8FeM77WthL"
   },
   "outputs": [],
   "source": [
    "!mo \\\n",
    "--input_model frozen_darknet_yolov3_model.pb \\\n",
    "--transformations_config /opt/intel/openvino-lts/deployment_tools/model_optimizer/extensions/front/tf/yolo_v3_tiny.json \\\n",
    "--data_type FP32 \\\n",
    "--batch 1 \\\n",
    "--output_dir models/tinyyolov3/FP32"
   ]
  },
  {
   "cell_type": "markdown",
   "metadata": {
    "id": "ci6jSRLHXB56"
   },
   "source": [
    "**Note: !mo command should be replaced by the path file where mo.py file is present if running in local system, no change need to be done if running the code in Intel Dev Cloud for Edge"
   ]
  },
  {
   "cell_type": "markdown",
   "metadata": {
    "id": "Ltw0i6hM0mQP"
   },
   "source": [
    "Congratulations! By downloading the Tiny YOLO* V3 Darknet Model to TensorFlow Format and then converting the model to an IR file using Model Optimizer, you have finished this lab exercise."
   ]
  },
  {
   "cell_type": "code",
   "execution_count": null,
   "metadata": {},
   "outputs": [],
   "source": []
  }
 ],
 "metadata": {
  "colab": {
   "provenance": []
  },
  "kernelspec": {
   "display_name": "Python3 (OpenVINO 2022.2.0 + TensorFlow 1.15.5)",
   "language": "python",
   "name": "openvino_2022.2-python3.6-tensorflow_1.15.5"
  },
  "language_info": {
   "codemirror_mode": {
    "name": "ipython",
    "version": 3
   },
   "file_extension": ".py",
   "mimetype": "text/x-python",
   "name": "python",
   "nbconvert_exporter": "python",
   "pygments_lexer": "ipython3",
   "version": "3.6.9"
  }
 },
 "nbformat": 4,
 "nbformat_minor": 4
}
